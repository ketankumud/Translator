{
  "cells": [
    {
      "cell_type": "markdown",
      "metadata": {
        "id": "view-in-github",
        "colab_type": "text"
      },
      "source": [
        "<a href=\"https://colab.research.google.com/github/ketankumud/Translator/blob/main/Translator.ipynb\" target=\"_parent\"><img src=\"https://colab.research.google.com/assets/colab-badge.svg\" alt=\"Open In Colab\"/></a>"
      ]
    },
    {
      "cell_type": "markdown",
      "source": [
        "# Translate a spanish Sentence to English sentence using Encoder and decoder with Attention mechanism"
      ],
      "metadata": {
        "id": "lKQZAfnw-S_t"
      }
    },
    {
      "cell_type": "code",
      "source": [
        "import numpy as np\n",
        "\n",
        "import typing\n",
        "from typing import Any,Tuple\n",
        "\n",
        "import einops\n",
        "import matplotlib.pyplot as plt\n",
        "import matplotlib.ticker as ticker\n",
        "\n",
        "\n",
        "import tensorflow as tf\n",
        "import tensorflow_text as tf_text"
      ],
      "metadata": {
        "id": "X1lCz9Cv-n2p"
      },
      "execution_count": 151,
      "outputs": []
    },
    {
      "cell_type": "markdown",
      "source": [
        "# Download Dataset"
      ],
      "metadata": {
        "id": "vouqpLqOFFq3"
      }
    },
    {
      "cell_type": "code",
      "source": [
        "# Download the data file\n",
        "\n",
        "import pathlib\n",
        "\n",
        "path_to_zip = tf.keras.utils.get_file(\n",
        "    'spa-eng.zip', origin='http://storage.googleapis.com/download.tensorflow.org/data/spa-eng.zip',\n",
        "    extract=True)\n",
        "\n",
        "path_to_file = pathlib.Path(path_to_zip).parent/'spa-eng/spa.txt'\n",
        "\n"
      ],
      "metadata": {
        "colab": {
          "base_uri": "https://localhost:8080/"
        },
        "id": "A4OlAR9hE7HY",
        "outputId": "b9c5f972-5c8d-4ce1-f33e-ebf6205c92f4"
      },
      "execution_count": 4,
      "outputs": [
        {
          "output_type": "stream",
          "name": "stdout",
          "text": [
            "Downloading data from http://storage.googleapis.com/download.tensorflow.org/data/spa-eng.zip\n",
            "2638744/2638744 [==============================] - 1s 0us/step\n"
          ]
        }
      ]
    },
    {
      "cell_type": "code",
      "source": [
        "def load_data(path):\n",
        "  text=path.read_text(encoding='utf-8')\n",
        "\n",
        "  lines=text.splitlines()\n",
        "  pairs=[line.split('\\t') for line in lines]\n",
        "\n",
        "  context=np.array([context for target ,context in pairs])\n",
        "  target=np.array([target for target,context in pairs])\n",
        "\n",
        "  return target,context\n"
      ],
      "metadata": {
        "id": "M-olJ-JyAPsc"
      },
      "execution_count": 5,
      "outputs": []
    },
    {
      "cell_type": "code",
      "source": [
        "target_raw,context_raw=load_data(path_to_file)\n",
        "print(context_raw[-1])\n"
      ],
      "metadata": {
        "colab": {
          "base_uri": "https://localhost:8080/"
        },
        "id": "SG6AgdH7ITuX",
        "outputId": "612c327a-b74d-4953-f41d-0b39603f33ca"
      },
      "execution_count": 6,
      "outputs": [
        {
          "output_type": "stream",
          "name": "stdout",
          "text": [
            "Si quieres sonar como un hablante nativo, debes estar dispuesto a practicar diciendo la misma frase una y otra vez de la misma manera en que un músico de banjo practica el mismo fraseo una y otra vez hasta que lo puedan tocar correctamente y en el tiempo esperado.\n"
          ]
        }
      ]
    },
    {
      "cell_type": "code",
      "source": [
        "print(target_raw[-1])"
      ],
      "metadata": {
        "colab": {
          "base_uri": "https://localhost:8080/"
        },
        "id": "6Hlov4vvI59f",
        "outputId": "320d0e49-b047-4fc8-96bd-037d38987fa0"
      },
      "execution_count": 7,
      "outputs": [
        {
          "output_type": "stream",
          "name": "stdout",
          "text": [
            "If you want to sound like a native speaker, you must be willing to practice saying the same sentence over and over in the same way that banjo players practice the same phrase over and over until they can play it correctly and at the desired tempo.\n"
          ]
        }
      ]
    },
    {
      "cell_type": "markdown",
      "source": [
        "# Create a tf.data dataset"
      ],
      "metadata": {
        "id": "d8muIGunJOmf"
      }
    },
    {
      "cell_type": "code",
      "source": [
        "BUFFER_SIZE=len(context_raw)\n",
        "BATCH_SIZE=64\n",
        "\n",
        "is_train = np.random.uniform(size=(len(target_raw),)) < 0.8\n",
        "\n",
        "train_raw=(tf.data.Dataset.\n",
        "           from_tensor_slices((context_raw[is_train],target_raw[is_train])).\n",
        "           shuffle(BUFFER_SIZE).\n",
        "           batch(BATCH_SIZE))\n",
        "\n",
        "val_raw=(tf.data.Dataset.\n",
        "         from_tensor_slices((context_raw[~is_train],target_raw[~is_train])).\n",
        "         shuffle(BUFFER_SIZE).\n",
        "         batch(BATCH_SIZE))"
      ],
      "metadata": {
        "id": "GfXY0qXYJYy1"
      },
      "execution_count": 8,
      "outputs": []
    },
    {
      "cell_type": "code",
      "source": [
        "for example_context,example_target in train_raw.take(1):\n",
        "  print(example_context[:5])\n",
        "  print()\n",
        "  print(example_target[:5])\n"
      ],
      "metadata": {
        "colab": {
          "base_uri": "https://localhost:8080/"
        },
        "id": "BzYIvKQ7MW1F",
        "outputId": "2edbe529-9e02-4691-8a48-ced25f260479"
      },
      "execution_count": 9,
      "outputs": [
        {
          "output_type": "stream",
          "name": "stdout",
          "text": [
            "tf.Tensor(\n",
            "[b'Ellas estaban nadando.' b'Tom est\\xc3\\xa1 haciendo un buen progreso.'\n",
            " b'\\xc2\\xbfPueden entreg\\xc3\\xa1rmelo de vuelta ahora?'\n",
            " b'La superficie de la luna es irregular.'\n",
            " b'Tom compr\\xc3\\xb3 algunas flores a Mary.'], shape=(5,), dtype=string)\n",
            "\n",
            "tf.Tensor(\n",
            "[b'They were swimming.' b'Tom is making good progress.'\n",
            " b'Can I have it back now?' b'The surface of the moon is irregular.'\n",
            " b'Tom bought some flowers for Mary.'], shape=(5,), dtype=string)\n"
          ]
        }
      ]
    },
    {
      "cell_type": "markdown",
      "source": [
        "# Text Standardization"
      ],
      "metadata": {
        "id": "O-hBmO_nT71N"
      }
    },
    {
      "cell_type": "markdown",
      "source": [
        "Since the dataset is multilingual so we need to convert all characters with ASCII equivalent"
      ],
      "metadata": {
        "id": "IP_h0XqoVVL7"
      }
    },
    {
      "cell_type": "code",
      "source": [
        "example=tf.constant('¿Todavía está en casa?')\n",
        "print(example.numpy())\n",
        "print(tf_text.normalize_utf8(example,'NFKD').numpy())"
      ],
      "metadata": {
        "colab": {
          "base_uri": "https://localhost:8080/"
        },
        "id": "lD_oYMYpUAt-",
        "outputId": "f51671a8-59d8-4917-950f-dc900cb86a40"
      },
      "execution_count": 10,
      "outputs": [
        {
          "output_type": "stream",
          "name": "stdout",
          "text": [
            "b'\\xc2\\xbfTodav\\xc3\\xada est\\xc3\\xa1 en casa?'\n",
            "b'\\xc2\\xbfTodavi\\xcc\\x81a esta\\xcc\\x81 en casa?'\n"
          ]
        }
      ]
    },
    {
      "cell_type": "markdown",
      "source": [
        "Unicode Normalization and some preprocessing like remove special characters ,create word index and reverse word index and padding"
      ],
      "metadata": {
        "id": "4wKip5-2Vro_"
      }
    },
    {
      "cell_type": "code",
      "source": [
        "def preprocessing(text):\n",
        "  text=tf_text.normalize_utf8(text,'NFKD')\n",
        "  text=tf.strings.lower(text)\n",
        "  # Keep space, a to z, and select punctuation.\n",
        "  text=tf.strings.regex_replace(text, '[^ a-z.?!,¿]', '')\n",
        "  # Add spaces around punctuation.\n",
        "  text = tf.strings.regex_replace(text, '[.?!,¿]', r' \\0 ')\n",
        "  # remove whitespaces\n",
        "  text=tf.strings.strip(text)\n",
        "\n",
        "  # Add start at the start and end to the end of  every text\n",
        "  text=tf.strings.join(['[START]',text,'[END]'],separator=' ')\n",
        "\n",
        "  return text\n",
        "\n"
      ],
      "metadata": {
        "id": "zrCWux59WRbv"
      },
      "execution_count": 11,
      "outputs": []
    },
    {
      "cell_type": "code",
      "source": [
        "print(example.numpy().decode())\n",
        "print(preprocessing(example).numpy().decode())"
      ],
      "metadata": {
        "colab": {
          "base_uri": "https://localhost:8080/"
        },
        "id": "qBJopumfYZrz",
        "outputId": "cc978f2a-1f6b-4938-a01d-e69611def20b"
      },
      "execution_count": 12,
      "outputs": [
        {
          "output_type": "stream",
          "name": "stdout",
          "text": [
            "¿Todavía está en casa?\n",
            "[START] ¿ todavia esta en casa ? [END]\n"
          ]
        }
      ]
    },
    {
      "cell_type": "markdown",
      "source": [
        "# Text Vectorization"
      ],
      "metadata": {
        "id": "Bqs1acY4ZQnt"
      }
    },
    {
      "cell_type": "code",
      "source": [
        "max_vocab_size=5000\n",
        "\n",
        "context_text_processsor=tf.keras.layers.TextVectorization(\n",
        "    standardize=preprocessing,\n",
        "    max_tokens=max_vocab_size,\n",
        "    ragged=True\n",
        ")"
      ],
      "metadata": {
        "id": "p2wCOwu8YX9e"
      },
      "execution_count": 13,
      "outputs": []
    },
    {
      "cell_type": "code",
      "source": [
        "context_text_processsor.adapt(train_raw.map(lambda context,target:context))\n",
        "print(context_text_processsor.get_vocabulary()[:10])"
      ],
      "metadata": {
        "colab": {
          "base_uri": "https://localhost:8080/"
        },
        "id": "-lt2OKbZcDOr",
        "outputId": "d7886016-2266-4be8-b2b4-8066979d85dc"
      },
      "execution_count": 14,
      "outputs": [
        {
          "output_type": "stream",
          "name": "stdout",
          "text": [
            "['', '[UNK]', '[START]', '[END]', '.', 'que', 'de', 'el', 'a', 'no']\n"
          ]
        }
      ]
    },
    {
      "cell_type": "code",
      "source": [
        "target_text_processor=tf.keras.layers.TextVectorization(\n",
        "    standardize=preprocessing,\n",
        "    max_tokens=max_vocab_size,\n",
        "    ragged=True\n",
        ")"
      ],
      "metadata": {
        "id": "ao1qYncXdlP_"
      },
      "execution_count": 15,
      "outputs": []
    },
    {
      "cell_type": "code",
      "source": [
        "target_text_processor.adapt(train_raw.map(lambda context,target:target))\n",
        "print(target_text_processor.get_vocabulary()[:10])"
      ],
      "metadata": {
        "colab": {
          "base_uri": "https://localhost:8080/"
        },
        "id": "b59MpWjdeCLX",
        "outputId": "6db23cf3-1129-4ad5-daec-13a5605720e2"
      },
      "execution_count": 16,
      "outputs": [
        {
          "output_type": "stream",
          "name": "stdout",
          "text": [
            "['', '[UNK]', '[START]', '[END]', '.', 'the', 'i', 'to', 'you', 'tom']\n"
          ]
        }
      ]
    },
    {
      "cell_type": "markdown",
      "source": [
        "These layers can now convert a strings into a batch of token id"
      ],
      "metadata": {
        "id": "sgUttvPop5dt"
      }
    },
    {
      "cell_type": "code",
      "source": [
        "examples_token=context_text_processsor(example_context)\n",
        "print(examples_token[:3,:])\n"
      ],
      "metadata": {
        "colab": {
          "base_uri": "https://localhost:8080/"
        },
        "id": "Rkf4x9Ayd-7x",
        "outputId": "381652fd-bf43-417f-dbea-160b33e14fd2"
      },
      "execution_count": 17,
      "outputs": [
        {
          "output_type": "stream",
          "name": "stdout",
          "text": [
            "<tf.RaggedTensor [[2, 731, 319, 2243, 4, 3], [2, 10, 20, 242, 16, 168, 2878, 4, 3],\n",
            " [2, 13, 398, 1, 6, 556, 90, 12, 3]]>\n"
          ]
        }
      ]
    },
    {
      "cell_type": "markdown",
      "source": [
        "Convert tokens back to string"
      ],
      "metadata": {
        "id": "9-Xbd5KFstiL"
      }
    },
    {
      "cell_type": "code",
      "source": [
        "context_vocab=np.array(context_text_processsor.get_vocabulary())\n",
        "tokens=context_vocab[examples_token[0].numpy()]\n",
        "' '.join(tokens)\n"
      ],
      "metadata": {
        "colab": {
          "base_uri": "https://localhost:8080/",
          "height": 35
        },
        "id": "V2ULPp6tssJm",
        "outputId": "691540d3-7a96-4bc9-ff4f-f98e1d7c1c70"
      },
      "execution_count": 41,
      "outputs": [
        {
          "output_type": "execute_result",
          "data": {
            "text/plain": [
              "'[START] ellas estaban nadando . [END]'"
            ],
            "application/vnd.google.colaboratory.intrinsic+json": {
              "type": "string"
            }
          },
          "metadata": {},
          "execution_count": 41
        }
      ]
    },
    {
      "cell_type": "code",
      "source": [
        "plt.subplot(1,2,1)\n",
        "plt.pcolormesh(examples_token.to_tensor())\n",
        "plt.title('Token IDs')\n",
        "\n",
        "plt.subplot(1,2,2)\n",
        "plt.pcolormesh(examples_token.to_tensor()!=0)\n",
        "plt.title(\"Mask\")"
      ],
      "metadata": {
        "colab": {
          "base_uri": "https://localhost:8080/",
          "height": 470
        },
        "id": "3FehXlQZuA0M",
        "outputId": "12cf1cf0-542f-4e64-b22d-a75d39878678"
      },
      "execution_count": 32,
      "outputs": [
        {
          "output_type": "execute_result",
          "data": {
            "text/plain": [
              "Text(0.5, 1.0, 'Mask')"
            ]
          },
          "metadata": {},
          "execution_count": 32
        },
        {
          "output_type": "display_data",
          "data": {
            "text/plain": [
              "<Figure size 640x480 with 2 Axes>"
            ],
            "image/png": "[encoded data removed]"
          },
          "metadata": {}
        }
      ]
    },
    {
      "cell_type": "code",
      "source": [
        "for context_x,target_x in train_raw.take(1):\n",
        "  print(target_text_processor(target_x)[:3,:-1])\n",
        "  print()\n",
        "  print(target_text_processor(target_x)[:3,1:])"
      ],
      "metadata": {
        "colab": {
          "base_uri": "https://localhost:8080/"
        },
        "id": "zN-_PhAlxnAM",
        "outputId": "c2211add-12da-41ec-df5a-bcaf6276384b"
      },
      "execution_count": 49,
      "outputs": [
        {
          "output_type": "stream",
          "name": "stdout",
          "text": [
            "<tf.RaggedTensor [[2, 13, 12, 884, 94, 21, 77, 155, 189, 4], [2, 26, 63, 2105, 4],\n",
            " [2, 9, 107, 23, 74, 225, 222, 16, 4]]>\n",
            "\n",
            "<tf.RaggedTensor [[13, 12, 884, 94, 21, 77, 155, 189, 4, 3], [26, 63, 2105, 4, 3],\n",
            " [9, 107, 23, 74, 225, 222, 16, 4, 3]]>\n"
          ]
        }
      ]
    },
    {
      "cell_type": "markdown",
      "source": [
        "# Process the dataset\n",
        "\n",
        "Convert the dataset strings to zero padded tensor IDsand shifted the input and output target by one step"
      ],
      "metadata": {
        "id": "-IpFmnTZ2Hsb"
      }
    },
    {
      "cell_type": "code",
      "source": [
        "def process_dataset(context,target):\n",
        "  context=context_text_processsor(context).to_tensor()\n",
        "  target=target_text_processor(target)\n",
        "  target_in=target[:,:-1].to_tensor()\n",
        "  target_out=target[:,1:].to_tensor()\n",
        "\n",
        "  return (context,target_in),target_out\n",
        "\n",
        "train_ds=train_raw.map(process_dataset,tf.data.AUTOTUNE)\n",
        "val_ds=val_raw.map(process_dataset,tf.data.AUTOTUNE)"
      ],
      "metadata": {
        "id": "uDmmU7UG2GIx"
      },
      "execution_count": 50,
      "outputs": []
    },
    {
      "cell_type": "markdown",
      "source": [
        "First sequence of each from the first batch"
      ],
      "metadata": {
        "id": "QlMs-ARn4rl4"
      }
    },
    {
      "cell_type": "code",
      "source": [
        "for (ex_context_tokens,ex_target_in),ex_target_out in train_ds.take(1):\n",
        "  print(ex_context_tokens[0,:10].numpy())\n",
        "  print()\n",
        "  print(ex_target_in[0,:10].numpy())\n",
        "  print(ex_target_out[0,:10].numpy())"
      ],
      "metadata": {
        "colab": {
          "base_uri": "https://localhost:8080/"
        },
        "id": "AiHCBwCe4qdO",
        "outputId": "277d6650-75d8-46e0-db87-e14f70b57654"
      },
      "execution_count": 51,
      "outputs": [
        {
          "output_type": "stream",
          "name": "stdout",
          "text": [
            "[   2   26 1311    6   34 3327   17    1    8   16]\n",
            "\n",
            "[   2 2555 1306 3715    7   10 1819 1310    4    0]\n",
            "[2555 1306 3715    7   10 1819 1310    4    3    0]\n"
          ]
        }
      ]
    },
    {
      "cell_type": "markdown",
      "source": [
        "The Encoder And Decoder"
      ],
      "metadata": {
        "id": "XF8KEDq25cvx"
      }
    },
    {
      "cell_type": "markdown",
      "source": [
        "# The Encoder"
      ],
      "metadata": {
        "id": "KH9NbtrN8qyR"
      }
    },
    {
      "cell_type": "code",
      "source": [
        "Units=256"
      ],
      "metadata": {
        "id": "Lc1h8TKTDo8A"
      },
      "execution_count": 52,
      "outputs": []
    },
    {
      "cell_type": "code",
      "source": [
        "class Encoder(tf.keras.layers.Layer):\n",
        "  def __init__(self, text_processor, units):\n",
        "    super(Encoder, self).__init__()\n",
        "    self.text_processor = text_processor\n",
        "    self.vocab_size = text_processor.vocabulary_size()\n",
        "    self.units = units\n",
        "\n",
        "    # The embedding layer converts tokens to vectors\n",
        "    self.embedding = tf.keras.layers.Embedding(self.vocab_size, units,\n",
        "                                               mask_zero=True)\n",
        "\n",
        "    # The RNN layer processes those vectors sequentially.\n",
        "    self.rnn = tf.keras.layers.Bidirectional(\n",
        "        merge_mode='sum',\n",
        "        layer=tf.keras.layers.GRU(units,\n",
        "                            # Return the sequence and state\n",
        "                            return_sequences=True,\n",
        "                            recurrent_initializer='glorot_uniform'))\n",
        "\n",
        "  def call(self, x):\n",
        "\n",
        "    # 2. The embedding layer looks up the embedding vector for each token.\n",
        "    x = self.embedding(x)\n",
        "\n",
        "\n",
        "    # 3. The GRU processes the sequence of embeddings.\n",
        "    x = self.rnn(x)\n",
        "\n",
        "\n",
        "    # 4. Returns the new sequence of embeddings.\n",
        "    return x\n",
        "\n",
        "  def convert_input(self, texts):\n",
        "    texts = tf.convert_to_tensor(texts)\n",
        "    if len(texts.shape) == 0:\n",
        "      texts = tf.convert_to_tensor(texts)[tf.newaxis]\n",
        "    context = self.text_processor(texts).to_tensor()\n",
        "    context = self(context)\n",
        "    return context"
      ],
      "metadata": {
        "id": "U0HgpKrB5bim"
      },
      "execution_count": 73,
      "outputs": []
    },
    {
      "cell_type": "code",
      "source": [
        "# Encode the input sequence.\n",
        "encoder = Encoder(context_text_processsor, Units)\n",
        "ex_context = encoder(ex_context_tokens)\n",
        "\n",
        "print(f'Context tokens, shape (batch, s): {ex_context_tokens.shape}')\n",
        "print(f'Encoder output, shape (batch, s, units): {ex_context.shape}')\n"
      ],
      "metadata": {
        "colab": {
          "base_uri": "https://localhost:8080/"
        },
        "id": "5c8sgC8vELqA",
        "outputId": "9e305687-b1c8-402b-8996-aa9bfc2aad4a"
      },
      "execution_count": 74,
      "outputs": [
        {
          "output_type": "stream",
          "name": "stdout",
          "text": [
            "Context tokens, shape (batch, s): (64, 17)\n",
            "Encoder output, shape (batch, s, units): (64, 17, 256)\n"
          ]
        }
      ]
    },
    {
      "cell_type": "markdown",
      "source": [
        "# Attention Layer"
      ],
      "metadata": {
        "id": "d_DdBTHnIdTx"
      }
    },
    {
      "cell_type": "code",
      "source": [
        "class CrossAttention(tf.keras.layers.Layer):\n",
        "  def __init__(self,units,**kwargs):\n",
        "    super().__init__()\n",
        "    self.mha=tf.keras.layers.MultiHeadAttention(key_dim=units,num_heads=1,**kwargs)\n",
        "    self.layernorm=tf.keras.layers.LayerNormalization()\n",
        "    self.add=tf.keras.layers.Add()\n",
        "\n",
        "  def call(self,x,context):\n",
        "\n",
        "    attn_output,attn_scores=self.mha(query=x,\n",
        "                                     value=context,\n",
        "                                     return_attention_scores=True)\n",
        "\n",
        "    # Cache the attention scores for plotting later.\n",
        "    attn_scores = tf.reduce_mean(attn_scores, axis=1)\n",
        "    self.last_attention_weights = attn_scores\n",
        "\n",
        "    x=self.add([x,attn_output])\n",
        "    x=self.layernorm(x)\n",
        "\n",
        "    return x"
      ],
      "metadata": {
        "id": "3N30OjneIb5t"
      },
      "execution_count": 77,
      "outputs": []
    },
    {
      "cell_type": "code",
      "source": [
        "\n",
        "attention_layer = CrossAttention(Units)\n",
        "\n",
        "# Attend to the encoded tokens\n",
        "embed = tf.keras.layers.Embedding(target_text_processor.vocabulary_size(),\n",
        "                                  output_dim=Units, mask_zero=True)\n",
        "ex_tar_embed = embed(ex_target_in)\n",
        "\n",
        "result = attention_layer(ex_tar_embed, ex_context)\n",
        "\n",
        "print(f'Context sequence, shape (batch, s, units): {ex_context.shape}')\n",
        "print(f'Target sequence, shape (batch, t, units): {ex_tar_embed.shape}')\n",
        "print(f'Attention result, shape (batch, t, units): {result.shape}')\n",
        "print(f'Attention weights, shape (batch, t, s):    {attention_layer.last_attention_weights.shape}')\n"
      ],
      "metadata": {
        "colab": {
          "base_uri": "https://localhost:8080/"
        },
        "id": "WulRjPNJM1pu",
        "outputId": "a7fcca0e-12e1-464d-8fdd-acf233b4d69a"
      },
      "execution_count": 78,
      "outputs": [
        {
          "output_type": "stream",
          "name": "stdout",
          "text": [
            "Context sequence, shape (batch, s, units): (64, 17, 256)\n",
            "Target sequence, shape (batch, t, units): (64, 16, 256)\n",
            "Attention result, shape (batch, t, units): (64, 16, 256)\n",
            "Attention weights, shape (batch, t, s):    (64, 16, 17)\n"
          ]
        }
      ]
    },
    {
      "cell_type": "markdown",
      "source": [
        "Attention Wights will sum to 1 over context sequence ,at each target sequence"
      ],
      "metadata": {
        "id": "CnCVY7HUNtlX"
      }
    },
    {
      "cell_type": "code",
      "source": [
        "attention_layer.last_attention_weights[0].numpy().sum(axis=-1)\n"
      ],
      "metadata": {
        "colab": {
          "base_uri": "https://localhost:8080/"
        },
        "id": "OfV0aEVUN33f",
        "outputId": "6e701fd9-89dc-45de-e40d-1a0642409266"
      },
      "execution_count": 80,
      "outputs": [
        {
          "output_type": "execute_result",
          "data": {
            "text/plain": [
              "array([1.        , 1.        , 1.        , 0.99999994, 1.        ,\n",
              "       1.        , 0.9999999 , 1.        , 1.        , 0.99999994,\n",
              "       0.99999994, 0.99999994, 0.99999994, 0.99999994, 0.99999994,\n",
              "       0.99999994], dtype=float32)"
            ]
          },
          "metadata": {},
          "execution_count": 80
        }
      ]
    },
    {
      "cell_type": "markdown",
      "source": [
        "# The Decoder"
      ],
      "metadata": {
        "id": "j68AYx88OaS5"
      }
    },
    {
      "cell_type": "code",
      "source": [
        "class Decoder(tf.keras.layers.Layer):\n",
        "  @classmethod\n",
        "  def add_method(cls,fun):\n",
        "    setattr(cls,fun.__name__,fun)\n",
        "    return fun\n",
        "\n",
        "  def __init__(self,units,text_processor):\n",
        "    super(Decoder,self).__init__()\n",
        "\n",
        "    self.processor=text_processor\n",
        "    self.units=units\n",
        "\n",
        "    self.word_to_id=tf.keras.layers.StringLookup(vocabulary=text_processor.get_vocabulary(),\n",
        "                                                 mask_token='',oov_token='[UNK]')\n",
        "\n",
        "    self.id_to_word=tf.keras.layers.StringLookup(vocabulary=text_processor.get_vocabulary(),\n",
        "                                                 mask_token='',oov_token='[UNK]',invert=True)\n",
        "\n",
        "    self.start_token=self.word_to_id('[START]')\n",
        "    self.end_token=self.word_to_id('[END]')\n",
        "\n",
        "    self.vocab_size=text_processor.vocabulary_size()\n",
        "\n",
        "    # Embedding layer that convert token Ids to vector\n",
        "\n",
        "    self.embedding=tf.keras.layers.Embedding(self.vocab_size,units,mask_zero=True)\n",
        "\n",
        "    # Attention Layer\n",
        "    self.attention=CrossAttention(Units)\n",
        "\n",
        "    # RNN layer\n",
        "    self.rnn=tf.keras.layers.GRU(units,recurrent_initializer='glorot_uniform',\n",
        "                                 return_state=True,return_sequences=True)\n",
        "\n",
        "    # output_layer\n",
        "\n",
        "    self.output_layer=tf.keras.layers.Dense(self.vocab_size)\n",
        ""
      ],
      "metadata": {
        "id": "uoXuGF8iNQ30"
      },
      "execution_count": 90,
      "outputs": []
    },
    {
      "cell_type": "markdown",
      "source": [
        "Training Method"
      ],
      "metadata": {
        "id": "qR7neGob27A4"
      }
    },
    {
      "cell_type": "code",
      "source": [
        "@Decoder.add_method\n",
        "def call(self,context,x,state=None,return_state=False):\n",
        "\n",
        "  # targent_in passing through Embedding Layer\n",
        "  x=self.embedding(x)\n",
        "\n",
        "  # Passing through RNN layer\n",
        "  x,state=self.rnn(x,initial_state=state)\n",
        "\n",
        "  # use the RNN output as a query and context as value and pass it to Attention layer\n",
        "  x=self.attention(x,context)\n",
        "\n",
        "  self.last_attention_weights=self.attention.last_attention_weights\n",
        "\n",
        "  logits=self.output_layer(x)\n",
        "\n",
        "  if return_state:\n",
        "    return logits,state\n",
        "  else:\n",
        "    return logits"
      ],
      "metadata": {
        "id": "U-DVkqOu2zt6"
      },
      "execution_count": 91,
      "outputs": []
    },
    {
      "cell_type": "markdown",
      "source": [
        "That will be sufficient for training. Create an instance of the decoder to test out:"
      ],
      "metadata": {
        "id": "ATK1AfAF5dig"
      }
    },
    {
      "cell_type": "code",
      "source": [
        "decoder=Decoder(Units,target_text_processor)"
      ],
      "metadata": {
        "id": "B2iP3EWV5edv"
      },
      "execution_count": 92,
      "outputs": []
    },
    {
      "cell_type": "markdown",
      "source": [
        "In training you'll use the decoder like this:\n",
        "\n",
        "Given the context and target tokens, for each target token it predicts the next target token."
      ],
      "metadata": {
        "id": "vI6KQxnX6S8B"
      }
    },
    {
      "cell_type": "code",
      "source": [
        "logits = decoder(ex_context, ex_target_in)\n",
        "\n",
        "print(f'encoder output shape: (batch, s, units) {ex_context.shape}')\n",
        "print(f'input target tokens shape: (batch, t) {ex_target_in.shape}')\n",
        "print(f'logits shape shape: (batch, target_vocabulary_size) {logits.shape}')\n"
      ],
      "metadata": {
        "colab": {
          "base_uri": "https://localhost:8080/"
        },
        "id": "HsELnNcS6RtK",
        "outputId": "e75349df-2db3-4468-e638-fb6e0b012b16"
      },
      "execution_count": 93,
      "outputs": [
        {
          "output_type": "stream",
          "name": "stdout",
          "text": [
            "encoder output shape: (batch, s, units) (64, 17, 256)\n",
            "input target tokens shape: (batch, t) (64, 16)\n",
            "logits shape shape: (batch, target_vocabulary_size) (64, 16, 5000)\n"
          ]
        }
      ]
    },
    {
      "cell_type": "markdown",
      "source": [
        "Inference"
      ],
      "metadata": {
        "id": "5cpXhR4aYPPQ"
      }
    },
    {
      "cell_type": "code",
      "source": [
        "@Decoder.add_method\n",
        "def get_initial_state(self,context):\n",
        "  batch_size=tf.shape(context)[0]\n",
        "  start_tokens=tf.fill([batch_size,1],self.start_token)\n",
        "  done=tf.zeros([batch_size,1],dtype=tf.bool)\n",
        "  embedded=self.embedding(start_tokens)\n",
        "\n",
        "  return start_tokens,done,self.rnn.get_initial_state(embedded)"
      ],
      "metadata": {
        "id": "vV4gZlwm6grz"
      },
      "execution_count": 94,
      "outputs": []
    },
    {
      "cell_type": "code",
      "source": [
        "@Decoder.add_method\n",
        "def id_to_strings(self,tokens):\n",
        "  word=self.id_to_word(tokens)\n",
        "  result=tf.strings.reduce_join(word,axis=1,separator=\" \")\n",
        "  result=tf.strings.regex_replace(result, '^ *\\[START\\] *', '')\n",
        "  result=tf.strings.regex_replace(result,' *\\[END\\] *$','')\n",
        "  return result"
      ],
      "metadata": {
        "id": "6uOx2cyic5Mz"
      },
      "execution_count": 101,
      "outputs": []
    },
    {
      "cell_type": "code",
      "source": [
        "@Decoder.add_method\n",
        "def get_next_token(self,context,next_token,done,state,temperature=0.0):\n",
        "  logits,state=self(context,next_token,state=state,return_state=True)\n",
        "\n",
        "  if temperature==0.0:\n",
        "    next_token=tf.argmax(logits,axis=-1)\n",
        "  else:\n",
        "    logits = logits[:, -1, :]/temperature\n",
        "    next_token = tf.random.categorical(logits, num_samples=1)\n",
        "\n",
        "  done=done | (next_token==self.end_token)\n",
        "\n",
        "  next_token=tf.where(done,tf.constant(0,dtype=tf.int64),next_token)\n",
        "\n",
        "  return next_token,done,state\n",
        "\n",
        "\n"
      ],
      "metadata": {
        "id": "pB_5i3-MeLzM"
      },
      "execution_count": 96,
      "outputs": []
    },
    {
      "cell_type": "markdown",
      "source": [
        "With those extra functions, you can write a generation loop:"
      ],
      "metadata": {
        "id": "BVpyW1zLgHZc"
      }
    },
    {
      "cell_type": "code",
      "source": [
        "next_token, done, state = decoder.get_initial_state(ex_context)\n",
        "tokens = []\n",
        "\n",
        "for _ in range(10):\n",
        "  next_token, done, state = decoder.get_next_token(\n",
        "      ex_context, next_token, done, state, temperature=1.0)\n",
        "  # Add the token to the output.\n",
        "  tokens.append(next_token)\n",
        "\n",
        "# Stack all the tokens together.\n",
        "tokens = tf.concat(tokens, axis=-1) # (batch, t)\n",
        "\n",
        "# Convert the tokens back to a a string\n",
        "result = decoder.id_to_strings(tokens)\n",
        "result[:3].numpy()\n",
        "\n"
      ],
      "metadata": {
        "colab": {
          "base_uri": "https://localhost:8080/"
        },
        "id": "AHlH297rgBoq",
        "outputId": "3da5cc8b-676f-4baa-f80c-38beb79acb10"
      },
      "execution_count": 102,
      "outputs": [
        {
          "output_type": "execute_result",
          "data": {
            "text/plain": [
              "array([b'didnt customs support sucking bandage christians hong supporters chose goats',\n",
              "       b'wings director wondering meet leftovers cost graduated broken nose announced',\n",
              "       b'books equipment happens meters model bedroom come argument urged painted'],\n",
              "      dtype=object)"
            ]
          },
          "metadata": {},
          "execution_count": 102
        }
      ]
    },
    {
      "cell_type": "markdown",
      "source": [
        "# THE MODEL"
      ],
      "metadata": {
        "id": "gDKOO-pshUl3"
      }
    },
    {
      "cell_type": "code",
      "source": [
        "class Translator(tf.keras.models.Model):\n",
        "  @classmethod\n",
        "  def add_method(cls,fun):\n",
        "    setattr(cls,fun.__name__,fun)\n",
        "    return fun\n",
        "\n",
        "  def __init__(self,units,context_text_processor,target_text_processor):\n",
        "    super().__init__()\n",
        "\n",
        "    encoder=Encoder(context_text_processor,units)\n",
        "    decoder=Decoder(units,target_text_processor)\n",
        "\n",
        "    self.encoder=encoder\n",
        "    self.decoder=decoder\n",
        "\n",
        "  def call(self,inputs):\n",
        "    context,x=inputs\n",
        "\n",
        "    context=self.encoder(context)\n",
        "    logits=self.decoder(context,x)\n",
        "\n",
        "    #TODO(b/250038731): remove this\n",
        "    try:\n",
        "      # Delete the keras mask, so keras doesn't scale the loss+accuracy.\n",
        "      del logits._keras_mask\n",
        "    except AttributeError:\n",
        "      pass\n",
        "\n",
        "    return logits"
      ],
      "metadata": {
        "id": "iOXBx-g5hT5Z"
      },
      "execution_count": 103,
      "outputs": []
    },
    {
      "cell_type": "markdown",
      "source": [
        "During Training model will be like this"
      ],
      "metadata": {
        "id": "lNdq-nFMjHhB"
      }
    },
    {
      "cell_type": "code",
      "source": [
        "model = Translator(Units, context_text_processsor, target_text_processor)\n",
        "\n",
        "logits = model((ex_context_tokens, ex_target_in))\n",
        "\n",
        "print(f'Context tokens, shape: (batch, s, units) {ex_context_tokens.shape}')\n",
        "print(f'Target tokens, shape: (batch, t) {ex_target_in.shape}')\n",
        "print(f'logits, shape: (batch, t, target_vocabulary_size) {logits.shape}')\n"
      ],
      "metadata": {
        "colab": {
          "base_uri": "https://localhost:8080/"
        },
        "id": "uunk5aEtjFrG",
        "outputId": "71d41c14-6d4a-4ec2-c441-7fd91abb6be5"
      },
      "execution_count": 105,
      "outputs": [
        {
          "output_type": "stream",
          "name": "stdout",
          "text": [
            "Context tokens, shape: (batch, s, units) (64, 17)\n",
            "Target tokens, shape: (batch, t) (64, 16)\n",
            "logits, shape: (batch, t, target_vocabulary_size) (64, 16, 5000)\n"
          ]
        }
      ]
    },
    {
      "cell_type": "markdown",
      "source": [
        "# TRAIN"
      ],
      "metadata": {
        "id": "4FrgSXrJjZGc"
      }
    },
    {
      "cell_type": "code",
      "source": [
        "def masked_loss(y_true,y_pred):\n",
        "  loss_fun=tf.keras.losses.SparseCategoricalCrossentropy(from_logits=True,reduction='none')\n",
        "  loss=loss_fun(y_true,y_pred)\n",
        "\n",
        "\n",
        "  # mask off padded 0\n",
        "  mask=tf.cast(y_true!=0,loss.dtype)\n",
        "  loss *=mask\n",
        "\n",
        "  return loss"
      ],
      "metadata": {
        "id": "2E3ZskHvjXcu"
      },
      "execution_count": 106,
      "outputs": []
    },
    {
      "cell_type": "code",
      "source": [
        "def masked_acc(y_true, y_pred):\n",
        "    # Calculate the loss for each item in the batch.\n",
        "    y_pred = tf.argmax(y_pred, axis=-1)\n",
        "    y_pred = tf.cast(y_pred, y_true.dtype)\n",
        "\n",
        "    match = tf.cast(y_true == y_pred, tf.float32)\n",
        "    mask = tf.cast(y_true != 0, tf.float32)\n",
        "\n",
        "    return tf.reduce_sum(match)/tf.reduce_sum(mask)\n"
      ],
      "metadata": {
        "id": "ddrULkx6kevi"
      },
      "execution_count": 107,
      "outputs": []
    },
    {
      "cell_type": "markdown",
      "source": [
        "Compile the model"
      ],
      "metadata": {
        "id": "hEWwzc_Qkn0U"
      }
    },
    {
      "cell_type": "code",
      "source": [
        "model.compile(loss=masked_loss,optimizer=\"adam\",metrics=[masked_acc,masked_loss])"
      ],
      "metadata": {
        "id": "w21_hTtkkkDG"
      },
      "execution_count": 109,
      "outputs": []
    },
    {
      "cell_type": "markdown",
      "source": [
        "The model is randomly initialized, and should give roughly uniform output probabilities. So it's easy to predict what the initial values of the metrics should be:"
      ],
      "metadata": {
        "id": "-151UIkHlZ7-"
      }
    },
    {
      "cell_type": "code",
      "source": [
        "vocab_size = 1.0 * target_text_processor.vocabulary_size()\n",
        "\n",
        "{\"expected_loss\": tf.math.log(vocab_size).numpy(),\n",
        " \"expected_acc\": 1/vocab_size}\n"
      ],
      "metadata": {
        "colab": {
          "base_uri": "https://localhost:8080/"
        },
        "id": "WTi2XqcBlbzh",
        "outputId": "4e9a044e-2617-4b33-8b86-d568d98dbc8a"
      },
      "execution_count": 111,
      "outputs": [
        {
          "output_type": "execute_result",
          "data": {
            "text/plain": [
              "{'expected_loss': 8.517193, 'expected_acc': 0.0002}"
            ]
          },
          "metadata": {},
          "execution_count": 111
        }
      ]
    },
    {
      "cell_type": "markdown",
      "source": [
        "That should roughly match the values returned by running a few steps of evaluation:"
      ],
      "metadata": {
        "id": "kO05uGeClltz"
      }
    },
    {
      "cell_type": "code",
      "source": [
        "model.evaluate(val_ds, steps=20, return_dict=True)\n"
      ],
      "metadata": {
        "colab": {
          "base_uri": "https://localhost:8080/"
        },
        "id": "wiGNf1gdlkZH",
        "outputId": "b82d7a06-0518-4fd3-c857-d15c3898a90f"
      },
      "execution_count": 112,
      "outputs": [
        {
          "output_type": "stream",
          "name": "stdout",
          "text": [
            "20/20 [==============================] - 16s 263ms/step - loss: 4.4088 - masked_acc: 2.8640e-04 - masked_loss: 4.3341\n"
          ]
        },
        {
          "output_type": "execute_result",
          "data": {
            "text/plain": [
              "{'loss': 4.408815383911133,\n",
              " 'masked_acc': 0.0002863987465389073,\n",
              " 'masked_loss': 4.3340582847595215}"
            ]
          },
          "metadata": {},
          "execution_count": 112
        }
      ]
    },
    {
      "cell_type": "code",
      "source": [
        "history = model.fit(\n",
        "    train_ds.repeat(),\n",
        "    epochs=100,\n",
        "    steps_per_epoch = 100,\n",
        "    validation_data=val_ds,\n",
        "    validation_steps = 20,\n",
        "    callbacks=[\n",
        "        tf.keras.callbacks.EarlyStopping(patience=3)])\n"
      ],
      "metadata": {
        "colab": {
          "base_uri": "https://localhost:8080/"
        },
        "id": "EwENHq2Rl8Bc",
        "outputId": "1d606c02-db6f-46a2-a28c-d9e23829a9ae"
      },
      "execution_count": 113,
      "outputs": [
        {
          "output_type": "stream",
          "name": "stdout",
          "text": [
            "Epoch 1/100\n",
            "100/100 [==============================] - 99s 819ms/step - loss: 2.5492 - masked_acc: 0.2508 - masked_loss: 2.4872 - val_loss: 2.0836 - val_masked_acc: 0.3550 - val_masked_loss: 2.0565\n",
            "Epoch 2/100\n",
            "100/100 [==============================] - 91s 914ms/step - loss: 1.8446 - masked_acc: 0.3941 - masked_loss: 1.7826 - val_loss: 1.6995 - val_masked_acc: 0.4321 - val_masked_loss: 1.6524\n",
            "Epoch 3/100\n",
            "100/100 [==============================] - 82s 819ms/step - loss: 1.5422 - masked_acc: 0.4746 - masked_loss: 1.5030 - val_loss: 1.5179 - val_masked_acc: 0.5088 - val_masked_loss: 1.4922\n",
            "Epoch 4/100\n",
            "100/100 [==============================] - 87s 872ms/step - loss: 1.3165 - masked_acc: 0.5344 - masked_loss: 1.2879 - val_loss: 1.2321 - val_masked_acc: 0.5401 - val_masked_loss: 1.1847\n",
            "Epoch 5/100\n",
            "100/100 [==============================] - 91s 908ms/step - loss: 1.2302 - masked_acc: 0.5724 - masked_loss: 1.1953 - val_loss: 1.0466 - val_masked_acc: 0.5873 - val_masked_loss: 1.0081\n",
            "Epoch 6/100\n",
            "100/100 [==============================] - 88s 884ms/step - loss: 1.0806 - masked_acc: 0.6095 - masked_loss: 1.0508 - val_loss: 0.9731 - val_masked_acc: 0.6254 - val_masked_loss: 0.9378\n",
            "Epoch 7/100\n",
            "100/100 [==============================] - 91s 914ms/step - loss: 0.9579 - masked_acc: 0.6379 - masked_loss: 0.9308 - val_loss: 0.9588 - val_masked_acc: 0.6548 - val_masked_loss: 0.9438\n",
            "Epoch 8/100\n",
            "100/100 [==============================] - 86s 862ms/step - loss: 0.9257 - masked_acc: 0.6590 - masked_loss: 0.9019 - val_loss: 0.8806 - val_masked_acc: 0.6617 - val_masked_loss: 0.8450\n",
            "Epoch 9/100\n",
            "100/100 [==============================] - 91s 910ms/step - loss: 0.8534 - masked_acc: 0.6712 - masked_loss: 0.8261 - val_loss: 0.8139 - val_masked_acc: 0.6736 - val_masked_loss: 0.7755\n",
            "Epoch 10/100\n",
            "100/100 [==============================] - 82s 819ms/step - loss: 0.8552 - masked_acc: 0.6785 - masked_loss: 0.8347 - val_loss: 0.7925 - val_masked_acc: 0.7014 - val_masked_loss: 0.7786\n",
            "Epoch 11/100\n",
            "100/100 [==============================] - 85s 852ms/step - loss: 0.8017 - masked_acc: 0.6900 - masked_loss: 0.7836 - val_loss: 0.7813 - val_masked_acc: 0.6952 - val_masked_loss: 0.7610\n",
            "Epoch 12/100\n",
            "100/100 [==============================] - 85s 851ms/step - loss: 0.7871 - masked_acc: 0.6949 - masked_loss: 0.7697 - val_loss: 0.7465 - val_masked_acc: 0.7020 - val_masked_loss: 0.7347\n",
            "Epoch 13/100\n",
            "100/100 [==============================] - 84s 842ms/step - loss: 0.7563 - masked_acc: 0.7084 - masked_loss: 0.7402 - val_loss: 0.7254 - val_masked_acc: 0.7087 - val_masked_loss: 0.6977\n",
            "Epoch 14/100\n",
            "100/100 [==============================] - 86s 861ms/step - loss: 0.7222 - masked_acc: 0.7132 - masked_loss: 0.7049 - val_loss: 0.7231 - val_masked_acc: 0.7187 - val_masked_loss: 0.7087\n",
            "Epoch 15/100\n",
            "100/100 [==============================] - 87s 873ms/step - loss: 0.7103 - masked_acc: 0.7143 - masked_loss: 0.6885 - val_loss: 0.6508 - val_masked_acc: 0.7214 - val_masked_loss: 0.6332\n",
            "Epoch 16/100\n",
            "100/100 [==============================] - 89s 894ms/step - loss: 0.6095 - masked_acc: 0.7428 - masked_loss: 0.5924 - val_loss: 0.7223 - val_masked_acc: 0.7257 - val_masked_loss: 0.7148\n",
            "Epoch 17/100\n",
            "100/100 [==============================] - 85s 850ms/step - loss: 0.6086 - masked_acc: 0.7455 - masked_loss: 0.5897 - val_loss: 0.6210 - val_masked_acc: 0.7224 - val_masked_loss: 0.5929\n",
            "Epoch 18/100\n",
            "100/100 [==============================] - 83s 828ms/step - loss: 0.5955 - masked_acc: 0.7490 - masked_loss: 0.5832 - val_loss: 0.6352 - val_masked_acc: 0.7256 - val_masked_loss: 0.6148\n",
            "Epoch 19/100\n",
            "100/100 [==============================] - 83s 825ms/step - loss: 0.5905 - masked_acc: 0.7467 - masked_loss: 0.5798 - val_loss: 0.7228 - val_masked_acc: 0.7226 - val_masked_loss: 0.6971\n",
            "Epoch 20/100\n",
            "100/100 [==============================] - 85s 847ms/step - loss: 0.5874 - masked_acc: 0.7456 - masked_loss: 0.5715 - val_loss: 0.6664 - val_masked_acc: 0.7381 - val_masked_loss: 0.6514\n"
          ]
        }
      ]
    },
    {
      "cell_type": "code",
      "source": [
        "plt.plot(history.history['loss'], label='loss')\n",
        "plt.plot(history.history['val_loss'], label='val_loss')\n",
        "plt.ylim([0, max(plt.ylim())])\n",
        "plt.xlabel('Epoch #')\n",
        "plt.ylabel('CE/token')\n",
        "plt.legend()\n"
      ],
      "metadata": {
        "colab": {
          "base_uri": "https://localhost:8080/",
          "height": 467
        },
        "id": "zOswMuvktLmI",
        "outputId": "331df81a-e5f0-42a8-a4ee-c27a127daf86"
      },
      "execution_count": 114,
      "outputs": [
        {
          "output_type": "execute_result",
          "data": {
            "text/plain": [
              "<matplotlib.legend.Legend at 0x7dfd35527f10>"
            ]
          },
          "metadata": {},
          "execution_count": 114
        },
        {
          "output_type": "display_data",
          "data": {
            "text/plain": [
              "<Figure size 640x480 with 1 Axes>"
            ],
            "image/png": "[encoded data removed]"
          },
          "metadata": {}
        }
      ]
    },
    {
      "cell_type": "code",
      "source": [
        "plt.plot(history.history['masked_acc'], label='accuracy')\n",
        "plt.plot(history.history['val_masked_acc'], label='val_accuracy')\n",
        "plt.ylim([0, max(plt.ylim())])\n",
        "plt.xlabel('Epoch #')\n",
        "plt.ylabel('CE/token')\n",
        "plt.legend()\n"
      ],
      "metadata": {
        "colab": {
          "base_uri": "https://localhost:8080/",
          "height": 467
        },
        "id": "G5W0qt69tTQh",
        "outputId": "e39172df-69a0-4bdd-c1af-575133c65f5f"
      },
      "execution_count": 115,
      "outputs": [
        {
          "output_type": "execute_result",
          "data": {
            "text/plain": [
              "<matplotlib.legend.Legend at 0x7dfd302c7ac0>"
            ]
          },
          "metadata": {},
          "execution_count": 115
        },
        {
          "output_type": "display_data",
          "data": {
            "text/plain": [
              "<Figure size 640x480 with 1 Axes>"
            ],
            "image/png": "[encoded data removed]"
          },
          "metadata": {}
        }
      ]
    },
    {
      "cell_type": "markdown",
      "source": [
        "Translate the input sentences`"
      ],
      "metadata": {
        "id": "_to4A_SSta4u"
      }
    },
    {
      "cell_type": "code",
      "source": [
        "@Translator.add_method\n",
        "def translate(self,texts,max_length=50,temperature=0.0):\n",
        "\n",
        "  context=self.encoder.convert_input(texts)\n",
        "  batch_size=tf.shape(texts)[0]\n",
        "\n",
        "  tokens=[]\n",
        "  attention_weights=[]\n",
        "  next_token,done,state=self.decoder.get_initial_state(context)\n",
        "\n",
        "  for _ in range(max_length):\n",
        "    # Generate next  token\n",
        "    next_token,done,state=self.decoder.get_next_token(context,next_token,done,state,temperature)\n",
        "\n",
        "    # collect the generated token\n",
        "    tokens.append(next_token)\n",
        "    attention_weights.append(self.decoder.last_attention_weights)\n",
        "\n",
        "    if tf.executing_eagerly() and tf.reduce_all(done):\n",
        "      break\n",
        "\n",
        "  tokens=tf.concat(tokens,axis=-1)\n",
        "  self.last_attention_weights=tf.concat(attention_weights,axis=1)\n",
        "\n",
        "  result=self.decoder.id_to_strings(tokens)\n",
        "  return result\n"
      ],
      "metadata": {
        "id": "JMNJMt-HtZsX"
      },
      "execution_count": 118,
      "outputs": []
    },
    {
      "cell_type": "code",
      "source": [
        "result=model.translate(['¿Todavía está en casa?'])\n",
        "result[0].numpy().decode()"
      ],
      "metadata": {
        "colab": {
          "base_uri": "https://localhost:8080/",
          "height": 35
        },
        "id": "zdUMdvdjxN_w",
        "outputId": "3c3a29e8-a9c5-427d-e57d-e53555919aab"
      },
      "execution_count": 121,
      "outputs": [
        {
          "output_type": "execute_result",
          "data": {
            "text/plain": [
              "'are you still at home ? '"
            ],
            "application/vnd.google.colaboratory.intrinsic+json": {
              "type": "string"
            }
          },
          "metadata": {},
          "execution_count": 121
        }
      ]
    },
    {
      "cell_type": "code",
      "source": [
        "@Translator.add_method\n",
        "def plot_attention(self,text,**kwargs):\n",
        "  result=self.translate([text],**kwargs)\n",
        "  output=result[0].numpy().decode()\n",
        "\n",
        "  attention=self.last_attention_weights[0]\n",
        "\n",
        "  context=preprocessing(text)\n",
        "  context=context.numpy().decode().split()\n",
        "\n",
        "  output=preprocessing(output)\n",
        "  output=output.numpy().decode().split()[1:]\n",
        "\n",
        "  fig=plt.figure(figsize=(10,10))\n",
        "  ax=fig.add_subplot(1,1,1)\n",
        "\n",
        "  ax.matshow(attention,cmap='viridis',vmin=0.0)\n",
        "\n",
        "  fontdict = {'fontsize': 14}\n",
        "\n",
        "  ax.set_xticklabels(['']+context,fontdict=fontdict,rotation=90)\n",
        "  ax.set_yticklabels(['']+output,fontdict=fontdict)\n",
        "\n",
        "  ax.xaxis.set_major_locator(ticker.MultipleLocator(1))\n",
        "  ax.yaxis.set_major_locator(ticker.MultipleLocator(1))\n",
        "\n",
        "  ax.set_xlabel('Input text')\n",
        "  ax.set_ylabel('Output text')\n"
      ],
      "metadata": {
        "id": "Nk0q7MElxxzy"
      },
      "execution_count": 136,
      "outputs": []
    },
    {
      "cell_type": "code",
      "source": [
        "model.plot_attention('¿Todavía está en casa?')"
      ],
      "metadata": {
        "colab": {
          "base_uri": "https://localhost:8080/",
          "height": 885
        },
        "id": "IyT1_Uez0ydu",
        "outputId": "42e566f5-f679-4d23-c7cf-363ea926b881"
      },
      "execution_count": 137,
      "outputs": [
        {
          "output_type": "stream",
          "name": "stderr",
          "text": [
            "<ipython-input-136-d8ffec2f570d>:21: UserWarning: FixedFormatter should only be used together with FixedLocator\n",
            "  ax.set_xticklabels(['']+context,fontdict=fontdict,rotation=90)\n",
            "<ipython-input-136-d8ffec2f570d>:22: UserWarning: FixedFormatter should only be used together with FixedLocator\n",
            "  ax.set_yticklabels(['']+output,fontdict=fontdict)\n"
          ]
        },
        {
          "output_type": "display_data",
          "data": {
            "text/plain": [
              "<Figure size 1000x1000 with 1 Axes>"
            ],
            "image/png": "[encoded data removed]"
          },
          "metadata": {}
        }
      ]
    },
    {
      "cell_type": "code",
      "source": [
        "%%time\n",
        "# Try to find out.'\n",
        "model.plot_attention('Tratar de descubrir.')\n"
      ],
      "metadata": {
        "colab": {
          "base_uri": "https://localhost:8080/",
          "height": 1000
        },
        "id": "daroJP-519Jw",
        "outputId": "7789f5e5-6821-469c-c865-10c1cb1e47d2"
      },
      "execution_count": 138,
      "outputs": [
        {
          "output_type": "stream",
          "name": "stderr",
          "text": [
            "<ipython-input-136-d8ffec2f570d>:21: UserWarning: FixedFormatter should only be used together with FixedLocator\n",
            "  ax.set_xticklabels(['']+context,fontdict=fontdict,rotation=90)\n",
            "<ipython-input-136-d8ffec2f570d>:22: UserWarning: FixedFormatter should only be used together with FixedLocator\n",
            "  ax.set_yticklabels(['']+output,fontdict=fontdict)\n"
          ]
        },
        {
          "output_type": "stream",
          "name": "stdout",
          "text": [
            "CPU times: user 334 ms, sys: 0 ns, total: 334 ms\n",
            "Wall time: 337 ms\n"
          ]
        },
        {
          "output_type": "display_data",
          "data": {
            "text/plain": [
              "<Figure size 1000x1000 with 1 Axes>"
            ],
            "image/png": "[encoded data removed]"
          },
          "metadata": {}
        }
      ]
    },
    {
      "cell_type": "markdown",
      "source": [
        "Longest text"
      ],
      "metadata": {
        "id": "mFKwAAyO68rB"
      }
    },
    {
      "cell_type": "code",
      "source": [
        "long_text=context_raw[-1]\n",
        "\n",
        "import textwrap\n",
        "print('Expected output:\\n', '\\n'.join(textwrap.wrap(target_raw[-1])))\n"
      ],
      "metadata": {
        "colab": {
          "base_uri": "https://localhost:8080/"
        },
        "id": "p-UCjby72TAL",
        "outputId": "851e963b-87b2-4d6d-d46d-01347011b969"
      },
      "execution_count": 139,
      "outputs": [
        {
          "output_type": "stream",
          "name": "stdout",
          "text": [
            "Expected output:\n",
            " If you want to sound like a native speaker, you must be willing to\n",
            "practice saying the same sentence over and over in the same way that\n",
            "banjo players practice the same phrase over and over until they can\n",
            "play it correctly and at the desired tempo.\n"
          ]
        }
      ]
    },
    {
      "cell_type": "code",
      "source": [
        "model.plot_attention(long_text)"
      ],
      "metadata": {
        "colab": {
          "base_uri": "https://localhost:8080/",
          "height": 567
        },
        "id": "RBk6nqGP7LN-",
        "outputId": "c58b0a88-73d4-4fc0-9344-10caae1f716d"
      },
      "execution_count": 140,
      "outputs": [
        {
          "output_type": "stream",
          "name": "stderr",
          "text": [
            "<ipython-input-136-d8ffec2f570d>:21: UserWarning: FixedFormatter should only be used together with FixedLocator\n",
            "  ax.set_xticklabels(['']+context,fontdict=fontdict,rotation=90)\n",
            "<ipython-input-136-d8ffec2f570d>:22: UserWarning: FixedFormatter should only be used together with FixedLocator\n",
            "  ax.set_yticklabels(['']+output,fontdict=fontdict)\n"
          ]
        },
        {
          "output_type": "display_data",
          "data": {
            "text/plain": [
              "<Figure size 1000x1000 with 1 Axes>"
            ],
            "image/png": "[encoded data removed]"
          },
          "metadata": {}
        }
      ]
    },
    {
      "cell_type": "markdown",
      "source": [
        "Translating the multiple sentences"
      ],
      "metadata": {
        "id": "4epeNqWD7kwt"
      }
    },
    {
      "cell_type": "code",
      "source": [
        "inputs=[\n",
        "    'Hace mucho frio aqui.', # \"It's really cold here.\"\n",
        "    'Esta es mi vida.', # \"This is my life.\"\n",
        "    'Su cuarto es un desastre.' # \"His room is a mess\"\n",
        "\n",
        "]"
      ],
      "metadata": {
        "id": "AjCXouhr7j9I"
      },
      "execution_count": 141,
      "outputs": []
    },
    {
      "cell_type": "code",
      "source": [
        "for input in inputs:\n",
        "  print(model.translate([input])[0].numpy().decode())\n",
        "\n",
        "print()"
      ],
      "metadata": {
        "colab": {
          "base_uri": "https://localhost:8080/"
        },
        "id": "TyYZNbCf7tZI",
        "outputId": "1c5f1899-ae0e-4e90-f510-0eee266118d3"
      },
      "execution_count": 144,
      "outputs": [
        {
          "output_type": "stream",
          "name": "stdout",
          "text": [
            "its very cold here . \n",
            "this is my life . \n",
            "his room is a [UNK] . \n",
            "\n"
          ]
        }
      ]
    }
  ],
  "metadata": {
    "colab": {
      "name": "Welcome To Colaboratory",
      "toc_visible": true,
      "provenance": [],
      "include_colab_link": true
    },
    "kernelspec": {
      "display_name": "Python 3",
      "name": "python3"
    }
  },
  "nbformat": 4,
  "nbformat_minor": 0
}